{
 "cells": [
  {
   "cell_type": "code",
   "execution_count": 1,
   "id": "9fe0b525-e15b-47ad-a643-18b8e8a3ba50",
   "metadata": {},
   "outputs": [],
   "source": [
    "import zipfile\n",
    "import os\n",
    "#pyspark imports\n",
    "from pyspark.sql import SparkSession\n",
    "from pyspark.sql.functions import col, when, md5, sum as spark_sum\n",
    "#matplotlib imports\n",
    "import matplotlib.pyplot as plt"
   ]
  },
  {
   "cell_type": "code",
   "execution_count": 2,
   "id": "5afe8371-6447-4d8f-8d34-de3787e3fdc8",
   "metadata": {},
   "outputs": [],
   "source": [
    "spark = SparkSession.builder.appName(\"SMS Billing\").getOrCreate()"
   ]
  },
  {
   "cell_type": "code",
   "execution_count": 3,
   "id": "817fc8d0-80a4-4533-b194-9cbf6d6dbcd1",
   "metadata": {},
   "outputs": [],
   "source": [
    "#Definir la ruta del archivo zip\n",
    "zip_file_path = '/home/jovyan/data/test_grandata_data_engineer.zip'"
   ]
  },
  {
   "cell_type": "code",
   "execution_count": 4,
   "id": "54318260-1cfd-4337-bf3c-c582ef3cc5a8",
   "metadata": {},
   "outputs": [],
   "source": [
    "#Crear un directorio para los archivos extraidos\n",
    "extraction_path = '/home/jovyan/data/extracted_files'\n",
    "os.makedirs(extraction_path, exist_ok=True)"
   ]
  },
  {
   "cell_type": "code",
   "execution_count": 5,
   "id": "83978508-57f6-4dc0-bb9f-cb62f51c042d",
   "metadata": {},
   "outputs": [],
   "source": [
    "#Descomprimir el archivo\n",
    "with zipfile.ZipFile(zip_file_path, 'r') as zip_ref:\n",
    "    zip_ref.extractall(extraction_path)"
   ]
  },
  {
   "cell_type": "code",
   "execution_count": 6,
   "id": "57035cd8-985d-4d27-8b27-77c93403be87",
   "metadata": {},
   "outputs": [
    {
     "name": "stdout",
     "output_type": "stream",
     "text": [
      "Archivos extraidos: ['__MACOSX', 'test_grandata_data_engineer']\n"
     ]
    }
   ],
   "source": [
    "#Listar los archivos extraidos\n",
    "extracted_files = os.listdir(extraction_path)\n",
    "print(\"Archivos extraidos:\", extracted_files)"
   ]
  },
  {
   "cell_type": "code",
   "execution_count": 7,
   "id": "49819657-c79f-491f-a01c-b074052ec4aa",
   "metadata": {},
   "outputs": [],
   "source": [
    "#Cargar datasets\n",
    "eventos_df = spark.read.csv(\"/home/jovyan/data/extracted_files/test_grandata_data_engineer/events.csv.gz\", header=True, inferSchema=True)\n",
    "free_sms_df = spark.read.csv(\"/home/jovyan/data/extracted_files/test_grandata_data_engineer/free_sms_destinations.csv.gz\", header=True, inferSchema=True)"
   ]
  },
  {
   "cell_type": "code",
   "execution_count": 8,
   "id": "fc25d57b-ab7e-493e-bd97-f65bdccbaa7b",
   "metadata": {},
   "outputs": [],
   "source": [
    "eventos_df = eventos_df.na.drop(subset=['id_source', 'id_destination'])"
   ]
  },
  {
   "cell_type": "code",
   "execution_count": 9,
   "id": "f871f944-f12e-445b-baf3-0c90edd1fb40",
   "metadata": {},
   "outputs": [
    {
     "name": "stdout",
     "output_type": "stream",
     "text": [
      "+----+-----+-------+---+--------+------+---------+--------------+\n",
      "|hour|calls|seconds|sms|date    |region|id_source|id_destination|\n",
      "+----+-----+-------+---+--------+------+---------+--------------+\n",
      "|11  |1    |24     |0  |20211001|5     |BF3      |374           |\n",
      "|1   |1    |51     |0  |20211001|4     |9F5      |374           |\n",
      "|11  |1    |3      |0  |20211001|6     |025      |374           |\n",
      "|10  |1    |36     |0  |20211001|5     |FB6      |D52           |\n",
      "|23  |4    |137    |0  |20211001|8     |4BB      |861           |\n",
      "|18  |0    |0      |1  |20211001|4     |90C      |5B0           |\n",
      "|13  |1    |618    |0  |20211001|9     |7AB      |4CA           |\n",
      "|16  |1    |172    |0  |20211001|9     |7AB      |4CA           |\n",
      "|6   |1    |208    |0  |20211001|9     |7AB      |4CA           |\n",
      "|5   |1    |66     |0  |20211001|9     |7AB      |4CA           |\n",
      "|18  |1    |135    |0  |20211001|9     |7AB      |4CA           |\n",
      "|12  |0    |0      |8  |20211001|9     |0A4      |465           |\n",
      "|21  |1    |6      |0  |20211001|7     |2DF      |048           |\n",
      "|15  |1    |26     |0  |20211001|9     |3C0      |048           |\n",
      "|20  |1    |5      |0  |20211001|5     |DF9      |D5B           |\n",
      "|8   |1    |122    |0  |20211001|5     |DF9      |D5B           |\n",
      "|15  |2    |336    |0  |20211001|5     |DF9      |D5B           |\n",
      "|9   |1    |3      |0  |20211001|8     |04C      |FD6           |\n",
      "|13  |2    |12     |0  |20211001|2     |4CC      |FD6           |\n",
      "|19  |1    |1502   |0  |20211001|9     |250      |2D3           |\n",
      "+----+-----+-------+---+--------+------+---------+--------------+\n",
      "only showing top 20 rows\n",
      "\n"
     ]
    }
   ],
   "source": [
    "eventos_df.show(20, truncate=False)"
   ]
  },
  {
   "cell_type": "code",
   "execution_count": 10,
   "id": "568d2299-50d1-4654-87a8-c106f8c00522",
   "metadata": {},
   "outputs": [],
   "source": [
    "#Calculo del monto total\n",
    "sms_cost_df = eventos_df.join(free_sms_df, eventos_df.id_destination == free_sms_df.id, \"left\") \\\n",
    "    .withColumn(\"sms_cost\", when(col(\"id_destination\") == free_sms_df.id, 0)\n",
    "        .when(col(\"region\").between(1, 5), 1.5) \n",
    "        .when(col(\"region\").between(6, 9), 2.0)\n",
    "    ) \\\n",
    "    .groupBy(\"id_source\") \\\n",
    "    .agg(spark_sum(\"sms_cost\").alias(\"total_sms_cost\"))"
   ]
  },
  {
   "cell_type": "code",
   "execution_count": 11,
   "id": "2220e2e2-f8a2-4f50-b97c-cd378a55825e",
   "metadata": {},
   "outputs": [
    {
     "name": "stdout",
     "output_type": "stream",
     "text": [
      "Monto total que facturara el proveedor: $1696022.5\n"
     ]
    }
   ],
   "source": [
    "total_sms_cost = sms_cost_df.agg(spark_sum(\"total_sms_cost\")).collect()[0][0]\n",
    "print(f\"Monto total que facturara el proveedor: ${total_sms_cost}\")"
   ]
  },
  {
   "cell_type": "code",
   "execution_count": 12,
   "id": "55fcfa75-7296-4206-9c06-ef3424ceaaba",
   "metadata": {},
   "outputs": [
    {
     "name": "stdout",
     "output_type": "stream",
     "text": [
      "+---------+--------------+--------------------------------+\n",
      "|id_source|total_sms_cost|hashed_id                       |\n",
      "+---------+--------------+--------------------------------+\n",
      "|4D3      |18573.0       |911914c7729eedbdf5b0f03159f451a9|\n",
      "|76D      |13508.0       |bd180b7811395cbce5076b52a78ca50d|\n",
      "|07E      |4070.0        |14a0660ae2f5d186882df86c2972fa93|\n",
      "|541      |1707.0        |16c222aa19898e5058938167c8ab6c57|\n",
      "|B86      |1292.5        |bc97b32ee2abb9c18aad55b9da9f51c0|\n",
      "|3AE      |1026.0        |6a57072949dbc409cc48ef7bd8b05335|\n",
      "|1BD      |1023.5        |f5a45e33602ea62f9498f9d9bb86fc3e|\n",
      "|3E0      |1015.5        |e9d076deb3451cc49819dbc8ed8be7a7|\n",
      "|D29      |892.0         |1b2e80021b5fc82bf4e6878cab310d9e|\n",
      "|E6F      |714.5         |159e1f3d6ff0e7c3c2ff9770edc52cdf|\n",
      "|D67      |702.0         |4e321438558549248e9ffc0195b8f4ef|\n",
      "|871      |680.0         |aeb3135b436aa55373822c010763dd54|\n",
      "|8F1      |652.0         |496ce5f942d15eefb26cd9e9f83bf869|\n",
      "|383      |626.5         |beed13602b9b0e6ecb5b568ff5058f07|\n",
      "|BD4      |616.0         |aa35b36e4d1395542d0da8f9b2138eb3|\n",
      "|D0B      |611.5         |e87c495061191f4df1ddef45f48bb532|\n",
      "|756      |610.5         |2823f4797102ce1a1aec05359cc16dd9|\n",
      "|556      |605.5         |11b921ef080f7736089c757404650e40|\n",
      "|7A5      |603.5         |13d8d90116cbacd3a56b2fa09ec97997|\n",
      "|BF0      |592.5         |49159f42b0f043d6d6be595a17476f36|\n",
      "+---------+--------------+--------------------------------+\n",
      "only showing top 20 rows\n",
      "\n"
     ]
    }
   ],
   "source": [
    "# generar dataset de usuarios con mayor facturacion\n",
    "top_users_df = sms_cost_df.orderBy(col(\"total_sms_cost\").desc()).limit(100) \\\n",
    ".withColumn(\"hashed_id\", md5(col(\"id_source\")))\n",
    "top_users_df.write.parquet(\"/home/jovyan/results/top_users.parquet\", mode=\"overwrite\", compression=\"gzip\")\n",
    "# Leer el dataset de usuarios con mayor facturación\n",
    "top_users_df = spark.read.parquet(\"/home/jovyan/results/top_users.parquet\")\n",
    "top_users_df.show(truncate=False)"
   ]
  },
  {
   "cell_type": "code",
   "execution_count": 13,
   "id": "5542c0c6-b902-471c-906a-9562cab37826",
   "metadata": {},
   "outputs": [
    {
     "data": {
      "image/png": "[encoded data removed]",
      "text/plain": [
       "<Figure size 640x480 with 1 Axes>"
      ]
     },
     "metadata": {},
     "output_type": "display_data"
    }
   ],
   "source": [
    "# graficar histograma de cantidad de llamadas por hora\n",
    "#contar llamadas por hora\n",
    "calls_by_hour_df = eventos_df.groupBy(\"hour\").agg(spark_sum(\"calls\").alias(\"total_calls\")).orderBy(\"hour\")\n",
    "calls_by_hour = calls_by_hour_df.toPandas()\n",
    "\n",
    "#Graficar Histograma\n",
    "plt.bar(calls_by_hour['hour'], calls_by_hour['total_calls'])\n",
    "plt.xlabel('Hora del Dia')\n",
    "plt.ylabel('Cantidad de llamadas')\n",
    "plt.title('Cantidad de llamadas por hora del dia')\n",
    "plt.savefig('results/calls_histogram.png')\n",
    "plt.show()"
   ]
  },
  {
   "cell_type": "code",
   "execution_count": 14,
   "id": "b8562fa6-d5c4-442b-8557-2eb39d1f899b",
   "metadata": {},
   "outputs": [],
   "source": [
    "spark.stop()"
   ]
  }
 ],
 "metadata": {
  "kernelspec": {
   "display_name": "Python 3 (ipykernel)",
   "language": "python",
   "name": "python3"
  },
  "language_info": {
   "codemirror_mode": {
    "name": "ipython",
    "version": 3
   },
   "file_extension": ".py",
   "mimetype": "text/x-python",
   "name": "python",
   "nbconvert_exporter": "python",
   "pygments_lexer": "ipython3",
   "version": "3.11.6"
  }
 },
 "nbformat": 4,
 "nbformat_minor": 5
}
